{
 "cells": [
  {
   "cell_type": "code",
   "execution_count": null,
   "id": "d7885f4c-fbc7-4baf-9bad-21c398dec28f",
   "metadata": {},
   "outputs": [],
   "source": []
  }
 ],
 "metadata": {
  "kernelspec": {
   "display_name": "Python 3 (ipykernel)",
   "language": "python",
   "name": "python3"
  },
  "language_info": {
   "name": ""
  }
 },
 "nbformat": 4,
 "nbformat_minor": 5
}
